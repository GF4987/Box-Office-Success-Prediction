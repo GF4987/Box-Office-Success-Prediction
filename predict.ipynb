{
 "cells": [
  {
   "cell_type": "markdown",
   "metadata": {},
   "source": [
    "Box-Office Revenue Prediction"
   ]
  },
  {
   "cell_type": "code",
   "execution_count": 15,
   "metadata": {},
   "outputs": [],
   "source": [
    "'''Importing Basic Packages'''\n",
    "import numpy as np\n",
    "import pandas as pd\n",
    "import matplotlib.pyplot as plt\n",
    "import seaborn as sb"
   ]
  },
  {
   "cell_type": "code",
   "execution_count": 16,
   "metadata": {},
   "outputs": [],
   "source": [
    "'''Importing Scikit Packages'''\n",
    "from sklearn.model_selection import train_test_split\n",
    "from sklearn.preprocessing import LabelEncoder, StandardScaler\n",
    "from sklearn.feature_extraction.text import CountVectorizer\n",
    "from sklearn import metrics"
   ]
  },
  {
   "cell_type": "code",
   "execution_count": 17,
   "metadata": {},
   "outputs": [
    {
     "data": {
      "text/html": [
       "<div>\n",
       "<style scoped>\n",
       "    .dataframe tbody tr th:only-of-type {\n",
       "        vertical-align: middle;\n",
       "    }\n",
       "\n",
       "    .dataframe tbody tr th {\n",
       "        vertical-align: top;\n",
       "    }\n",
       "\n",
       "    .dataframe thead th {\n",
       "        text-align: right;\n",
       "    }\n",
       "</style>\n",
       "<table border=\"1\" class=\"dataframe\">\n",
       "  <thead>\n",
       "    <tr style=\"text-align: right;\">\n",
       "      <th></th>\n",
       "      <th>title</th>\n",
       "      <th>domestic_revenue</th>\n",
       "      <th>world_revenue</th>\n",
       "      <th>distributor</th>\n",
       "      <th>opening_revenue</th>\n",
       "      <th>opening_theaters</th>\n",
       "      <th>budget</th>\n",
       "      <th>MPAA</th>\n",
       "      <th>genres</th>\n",
       "      <th>release_days</th>\n",
       "    </tr>\n",
       "  </thead>\n",
       "  <tbody>\n",
       "    <tr>\n",
       "      <th>0</th>\n",
       "      <td>The Avengers</td>\n",
       "      <td>6026491</td>\n",
       "      <td>1274885664</td>\n",
       "      <td>Warner Bros.</td>\n",
       "      <td>163620146</td>\n",
       "      <td>253</td>\n",
       "      <td>174687337</td>\n",
       "      <td>R</td>\n",
       "      <td>Animation</td>\n",
       "      <td>16</td>\n",
       "    </tr>\n",
       "    <tr>\n",
       "      <th>1</th>\n",
       "      <td>Titanic</td>\n",
       "      <td>169411543</td>\n",
       "      <td>1132871091</td>\n",
       "      <td>Disney</td>\n",
       "      <td>85549990</td>\n",
       "      <td>122</td>\n",
       "      <td>103948486</td>\n",
       "      <td>G</td>\n",
       "      <td>Action</td>\n",
       "      <td>103</td>\n",
       "    </tr>\n",
       "    <tr>\n",
       "      <th>2</th>\n",
       "      <td>Jurassic Park</td>\n",
       "      <td>107836098</td>\n",
       "      <td>583329845</td>\n",
       "      <td>Sony</td>\n",
       "      <td>55681429</td>\n",
       "      <td>3826</td>\n",
       "      <td>122104991</td>\n",
       "      <td>NC-17</td>\n",
       "      <td>Horror</td>\n",
       "      <td>89</td>\n",
       "    </tr>\n",
       "    <tr>\n",
       "      <th>3</th>\n",
       "      <td>Avatar</td>\n",
       "      <td>51433697</td>\n",
       "      <td>1225323391</td>\n",
       "      <td>Disney</td>\n",
       "      <td>109775324</td>\n",
       "      <td>3868</td>\n",
       "      <td>46431596</td>\n",
       "      <td>G</td>\n",
       "      <td>Horror</td>\n",
       "      <td>85</td>\n",
       "    </tr>\n",
       "    <tr>\n",
       "      <th>4</th>\n",
       "      <td>The Lion King</td>\n",
       "      <td>142791649</td>\n",
       "      <td>604140729</td>\n",
       "      <td>Warner Bros.</td>\n",
       "      <td>59476800</td>\n",
       "      <td>2934</td>\n",
       "      <td>203513696</td>\n",
       "      <td>R</td>\n",
       "      <td>Comedy</td>\n",
       "      <td>158</td>\n",
       "    </tr>\n",
       "  </tbody>\n",
       "</table>\n",
       "</div>"
      ],
      "text/plain": [
       "           title  domestic_revenue  world_revenue   distributor  \\\n",
       "0   The Avengers           6026491     1274885664  Warner Bros.   \n",
       "1        Titanic         169411543     1132871091        Disney   \n",
       "2  Jurassic Park         107836098      583329845          Sony   \n",
       "3         Avatar          51433697     1225323391        Disney   \n",
       "4  The Lion King         142791649      604140729  Warner Bros.   \n",
       "\n",
       "   opening_revenue  opening_theaters     budget   MPAA     genres  \\\n",
       "0        163620146               253  174687337      R  Animation   \n",
       "1         85549990               122  103948486      G     Action   \n",
       "2         55681429              3826  122104991  NC-17     Horror   \n",
       "3        109775324              3868   46431596      G     Horror   \n",
       "4         59476800              2934  203513696      R     Comedy   \n",
       "\n",
       "   release_days  \n",
       "0            16  \n",
       "1           103  \n",
       "2            89  \n",
       "3            85  \n",
       "4           158  "
      ]
     },
     "execution_count": 17,
     "metadata": {},
     "output_type": "execute_result"
    }
   ],
   "source": [
    "'''CSV Dataset into Pandas Dataframe'''\n",
    "\n",
    "data = pd.read_csv('imdbboxoffice.csv')\n",
    "dataTitle = data.style.set_caption(\"Box Office Data from IMDB\")\n",
    "data.head()"
   ]
  },
  {
   "cell_type": "code",
   "execution_count": 18,
   "metadata": {},
   "outputs": [
    {
     "name": "stdout",
     "output_type": "stream",
     "text": [
      "<class 'pandas.core.frame.DataFrame'>\n",
      "RangeIndex: 2694 entries, 0 to 2693\n",
      "Data columns (total 10 columns):\n",
      " #   Column            Non-Null Count  Dtype \n",
      "---  ------            --------------  ----- \n",
      " 0   title             2694 non-null   object\n",
      " 1   domestic_revenue  2694 non-null   int64 \n",
      " 2   world_revenue     2694 non-null   int64 \n",
      " 3   distributor       2694 non-null   object\n",
      " 4   opening_revenue   2694 non-null   int64 \n",
      " 5   opening_theaters  2694 non-null   int64 \n",
      " 6   budget            2694 non-null   int64 \n",
      " 7   MPAA              2694 non-null   object\n",
      " 8   genres            2694 non-null   object\n",
      " 9   release_days      2694 non-null   int64 \n",
      "dtypes: int64(6), object(4)\n",
      "memory usage: 210.6+ KB\n"
     ]
    }
   ],
   "source": [
    "'''Dataset Exploration'''\n",
    "data.shape #Rows/Columns of Data\n",
    "data.info() #Data types of data in dataframe"
   ]
  },
  {
   "cell_type": "markdown",
   "metadata": {},
   "source": [
    "Dataset had \"object\" types in its data instead of integers. Dataset needs to be cleaned in order for further use."
   ]
  },
  {
   "cell_type": "code",
   "execution_count": 19,
   "metadata": {},
   "outputs": [
    {
     "data": {
      "text/html": [
       "<div>\n",
       "<style scoped>\n",
       "    .dataframe tbody tr th:only-of-type {\n",
       "        vertical-align: middle;\n",
       "    }\n",
       "\n",
       "    .dataframe tbody tr th {\n",
       "        vertical-align: top;\n",
       "    }\n",
       "\n",
       "    .dataframe thead th {\n",
       "        text-align: right;\n",
       "    }\n",
       "</style>\n",
       "<table border=\"1\" class=\"dataframe\">\n",
       "  <thead>\n",
       "    <tr style=\"text-align: right;\">\n",
       "      <th></th>\n",
       "      <th>count</th>\n",
       "      <th>mean</th>\n",
       "      <th>std</th>\n",
       "      <th>min</th>\n",
       "      <th>25%</th>\n",
       "      <th>50%</th>\n",
       "      <th>75%</th>\n",
       "      <th>max</th>\n",
       "    </tr>\n",
       "  </thead>\n",
       "  <tbody>\n",
       "    <tr>\n",
       "      <th>domestic_revenue</th>\n",
       "      <td>2694.0</td>\n",
       "      <td>1.508539e+08</td>\n",
       "      <td>8.579997e+07</td>\n",
       "      <td>827765.0</td>\n",
       "      <td>7.673272e+07</td>\n",
       "      <td>152572473.5</td>\n",
       "      <td>2.247314e+08</td>\n",
       "      <td>2.998107e+08</td>\n",
       "    </tr>\n",
       "    <tr>\n",
       "      <th>world_revenue</th>\n",
       "      <td>2694.0</td>\n",
       "      <td>7.719177e+08</td>\n",
       "      <td>4.284414e+08</td>\n",
       "      <td>3261301.0</td>\n",
       "      <td>3.991135e+08</td>\n",
       "      <td>766555142.5</td>\n",
       "      <td>1.143920e+09</td>\n",
       "      <td>1.499310e+09</td>\n",
       "    </tr>\n",
       "    <tr>\n",
       "      <th>opening_revenue</th>\n",
       "      <td>2694.0</td>\n",
       "      <td>9.971321e+07</td>\n",
       "      <td>5.721762e+07</td>\n",
       "      <td>138569.0</td>\n",
       "      <td>5.033848e+07</td>\n",
       "      <td>99814175.0</td>\n",
       "      <td>1.489805e+08</td>\n",
       "      <td>1.999336e+08</td>\n",
       "    </tr>\n",
       "    <tr>\n",
       "      <th>opening_theaters</th>\n",
       "      <td>2694.0</td>\n",
       "      <td>2.263039e+03</td>\n",
       "      <td>1.298559e+03</td>\n",
       "      <td>10.0</td>\n",
       "      <td>1.161000e+03</td>\n",
       "      <td>2271.5</td>\n",
       "      <td>3.392250e+03</td>\n",
       "      <td>4.499000e+03</td>\n",
       "    </tr>\n",
       "    <tr>\n",
       "      <th>budget</th>\n",
       "      <td>2694.0</td>\n",
       "      <td>1.537996e+08</td>\n",
       "      <td>8.557624e+07</td>\n",
       "      <td>5197977.0</td>\n",
       "      <td>7.861876e+07</td>\n",
       "      <td>156256716.0</td>\n",
       "      <td>2.274832e+08</td>\n",
       "      <td>2.998597e+08</td>\n",
       "    </tr>\n",
       "    <tr>\n",
       "      <th>release_days</th>\n",
       "      <td>2694.0</td>\n",
       "      <td>9.089755e+01</td>\n",
       "      <td>5.089404e+01</td>\n",
       "      <td>1.0</td>\n",
       "      <td>4.700000e+01</td>\n",
       "      <td>91.0</td>\n",
       "      <td>1.350000e+02</td>\n",
       "      <td>1.790000e+02</td>\n",
       "    </tr>\n",
       "  </tbody>\n",
       "</table>\n",
       "</div>"
      ],
      "text/plain": [
       "                   count          mean           std        min           25%  \\\n",
       "domestic_revenue  2694.0  1.508539e+08  8.579997e+07   827765.0  7.673272e+07   \n",
       "world_revenue     2694.0  7.719177e+08  4.284414e+08  3261301.0  3.991135e+08   \n",
       "opening_revenue   2694.0  9.971321e+07  5.721762e+07   138569.0  5.033848e+07   \n",
       "opening_theaters  2694.0  2.263039e+03  1.298559e+03       10.0  1.161000e+03   \n",
       "budget            2694.0  1.537996e+08  8.557624e+07  5197977.0  7.861876e+07   \n",
       "release_days      2694.0  9.089755e+01  5.089404e+01        1.0  4.700000e+01   \n",
       "\n",
       "                          50%           75%           max  \n",
       "domestic_revenue  152572473.5  2.247314e+08  2.998107e+08  \n",
       "world_revenue     766555142.5  1.143920e+09  1.499310e+09  \n",
       "opening_revenue    99814175.0  1.489805e+08  1.999336e+08  \n",
       "opening_theaters       2271.5  3.392250e+03  4.499000e+03  \n",
       "budget            156256716.0  2.274832e+08  2.998597e+08  \n",
       "release_days             91.0  1.350000e+02  1.790000e+02  "
      ]
     },
     "execution_count": 19,
     "metadata": {},
     "output_type": "execute_result"
    }
   ],
   "source": [
    "data.describe().T"
   ]
  },
  {
   "cell_type": "markdown",
   "metadata": {},
   "source": [
    "Will only be using domestic revenue for this project, so there is no need for world or opening revenue (this values might be taken into account in the future)."
   ]
  },
  {
   "cell_type": "code",
   "execution_count": 20,
   "metadata": {},
   "outputs": [],
   "source": [
    "'''Removing Unecessary Columns'''\n",
    "remove = ['world_revenue', 'opening_revenue']\n",
    "data.drop(remove, axis=1, inplace=True)"
   ]
  },
  {
   "cell_type": "code",
   "execution_count": 21,
   "metadata": {},
   "outputs": [
    {
     "data": {
      "text/html": [
       "<div>\n",
       "<style scoped>\n",
       "    .dataframe tbody tr th:only-of-type {\n",
       "        vertical-align: middle;\n",
       "    }\n",
       "\n",
       "    .dataframe tbody tr th {\n",
       "        vertical-align: top;\n",
       "    }\n",
       "\n",
       "    .dataframe thead th {\n",
       "        text-align: right;\n",
       "    }\n",
       "</style>\n",
       "<table border=\"1\" class=\"dataframe\">\n",
       "  <thead>\n",
       "    <tr style=\"text-align: right;\">\n",
       "      <th></th>\n",
       "      <th>count</th>\n",
       "      <th>mean</th>\n",
       "      <th>std</th>\n",
       "      <th>min</th>\n",
       "      <th>25%</th>\n",
       "      <th>50%</th>\n",
       "      <th>75%</th>\n",
       "      <th>max</th>\n",
       "    </tr>\n",
       "  </thead>\n",
       "  <tbody>\n",
       "    <tr>\n",
       "      <th>domestic_revenue</th>\n",
       "      <td>2694.0</td>\n",
       "      <td>1.508539e+08</td>\n",
       "      <td>8.579997e+07</td>\n",
       "      <td>827765.0</td>\n",
       "      <td>76732721.25</td>\n",
       "      <td>152572473.5</td>\n",
       "      <td>2.247314e+08</td>\n",
       "      <td>299810741.0</td>\n",
       "    </tr>\n",
       "    <tr>\n",
       "      <th>opening_theaters</th>\n",
       "      <td>2694.0</td>\n",
       "      <td>2.263039e+03</td>\n",
       "      <td>1.298559e+03</td>\n",
       "      <td>10.0</td>\n",
       "      <td>1161.00</td>\n",
       "      <td>2271.5</td>\n",
       "      <td>3.392250e+03</td>\n",
       "      <td>4499.0</td>\n",
       "    </tr>\n",
       "    <tr>\n",
       "      <th>budget</th>\n",
       "      <td>2694.0</td>\n",
       "      <td>1.537996e+08</td>\n",
       "      <td>8.557624e+07</td>\n",
       "      <td>5197977.0</td>\n",
       "      <td>78618761.50</td>\n",
       "      <td>156256716.0</td>\n",
       "      <td>2.274832e+08</td>\n",
       "      <td>299859703.0</td>\n",
       "    </tr>\n",
       "    <tr>\n",
       "      <th>release_days</th>\n",
       "      <td>2694.0</td>\n",
       "      <td>9.089755e+01</td>\n",
       "      <td>5.089404e+01</td>\n",
       "      <td>1.0</td>\n",
       "      <td>47.00</td>\n",
       "      <td>91.0</td>\n",
       "      <td>1.350000e+02</td>\n",
       "      <td>179.0</td>\n",
       "    </tr>\n",
       "  </tbody>\n",
       "</table>\n",
       "</div>"
      ],
      "text/plain": [
       "                   count          mean           std        min          25%  \\\n",
       "domestic_revenue  2694.0  1.508539e+08  8.579997e+07   827765.0  76732721.25   \n",
       "opening_theaters  2694.0  2.263039e+03  1.298559e+03       10.0      1161.00   \n",
       "budget            2694.0  1.537996e+08  8.557624e+07  5197977.0  78618761.50   \n",
       "release_days      2694.0  9.089755e+01  5.089404e+01        1.0        47.00   \n",
       "\n",
       "                          50%           75%          max  \n",
       "domestic_revenue  152572473.5  2.247314e+08  299810741.0  \n",
       "opening_theaters       2271.5  3.392250e+03       4499.0  \n",
       "budget            156256716.0  2.274832e+08  299859703.0  \n",
       "release_days             91.0  1.350000e+02        179.0  "
      ]
     },
     "execution_count": 21,
     "metadata": {},
     "output_type": "execute_result"
    }
   ],
   "source": [
    "'''Cleaned Up Dataset'''\n",
    "data.describe().T #.T is to transpose dataframe columns for readability purposes"
   ]
  },
  {
   "cell_type": "markdown",
   "metadata": {},
   "source": [
    "The \"world_revenue\" and \"opening_revenue\" columns are not part of the dataset anymore."
   ]
  },
  {
   "cell_type": "code",
   "execution_count": 22,
   "metadata": {},
   "outputs": [
    {
     "data": {
      "text/plain": [
       "title               0.0\n",
       "domestic_revenue    0.0\n",
       "distributor         0.0\n",
       "opening_theaters    0.0\n",
       "budget              0.0\n",
       "MPAA                0.0\n",
       "genres              0.0\n",
       "release_days        0.0\n",
       "dtype: float64"
      ]
     },
     "execution_count": 22,
     "metadata": {},
     "output_type": "execute_result"
    }
   ],
   "source": [
    "'''Calculate Percentage of Missing Values'''\n",
    "nul = data.isnull().sum() #identifies number of null columns\n",
    "(nul / data.shape[0]) * 100"
   ]
  },
  {
   "cell_type": "markdown",
   "metadata": {},
   "source": [
    "Removing other columns like \"budget\" with too many missing values"
   ]
  },
  {
   "cell_type": "code",
   "execution_count": 23,
   "metadata": {},
   "outputs": [
    {
     "data": {
      "text/plain": [
       "np.int64(0)"
      ]
     },
     "execution_count": 23,
     "metadata": {},
     "output_type": "execute_result"
    }
   ],
   "source": [
    "'''Handling More Missing Values'''\n",
    "data.drop('budget', axis=1, inplace=True) #Removing Budget Column\n",
    "\n",
    "missVals = ['MPAA', 'genres'] #Columns with missing values\n",
    "\n",
    "for col in missVals:\n",
    "    data[col] = data[col].fillna(data[col].mode()[0])\n",
    "\n",
    "data.dropna(inplace=True)\n",
    "\n",
    "data.isnull().sum().sum()"
   ]
  },
  {
   "cell_type": "markdown",
   "metadata": {},
   "source": [
    "There are still columns with special characters ($ or ,) that are stored as strings. We only care about the numeric data within these columns. Revenue columns should not have the dollar sign in them and numeric values such as 1,000 should not have the \",\" in them. All of the columns then need to be converted to float types."
   ]
  },
  {
   "cell_type": "code",
   "execution_count": 24,
   "metadata": {},
   "outputs": [],
   "source": [
    "'''Special Characters to Numeric Columns'''\n",
    "\n",
    "data['domestic_revenue'] = data['domestic_revenue'].astype(str).str[1:] #Collects the numeric values in this string data column and ignores the $ character\n",
    "\n",
    "specChar_cols = ['domestic_revenue', 'opening_theaters', 'release_days']\n",
    "\n",
    "for col in specChar_cols:\n",
    "    data[col] = data[col].astype(str).replace(',', '')\n",
    "\n",
    "    temp = (~data[col].isnull()) #Collects nul data into a temp variable\n",
    "    data[temp][col] = data[temp][col].convert_dtypes(float) #Converts all remaining data that is nul or something else into float datatype\n",
    "\n",
    "    data[col] = pd.to_numeric(data[col], errors='coerce') #Convert data in column to numeric data type and if there is an error parsing, then the invalid parsing will be set as \"NaN\"\n",
    "\n",
    "    "
   ]
  },
  {
   "cell_type": "markdown",
   "metadata": {},
   "source": [
    "Now to see how many movies fall under each MPAA rating category (PG, R, PG-13, etc.). This can be done using a horizontal bar chart and matplotlib."
   ]
  },
  {
   "cell_type": "code",
   "execution_count": 33,
   "metadata": {},
   "outputs": [
    {
     "data": {
      "image/png": "[encoded data removed]",
      "text/plain": [
       "<Figure size 1000x500 with 1 Axes>"
      ]
     },
     "metadata": {},
     "output_type": "display_data"
    }
   ],
   "source": [
    "'''Horizontal Bar Chart for MPAA'''\n",
    "plt.figure(figsize=(10, 5))\n",
    "\n",
    "bar_colors = ['tab:red', 'tab:green', 'tab:purple', 'tab:blue', 'tab:orange']\n",
    "plt.title('Number of Films In MPAA Categories')\n",
    "plt.xlabel(\"Number of Films\")\n",
    "plt.ylabel('MPAA Rating')\n",
    "\n",
    "sb.countplot(data['MPAA'])\n",
    "\n",
    "plt.show()"
   ]
  },
  {
   "cell_type": "markdown",
   "metadata": {},
   "source": [
    "Calculating the average domestic revenue by MPAA rating is next in order to normalize the data."
   ]
  },
  {
   "cell_type": "code",
   "execution_count": 34,
   "metadata": {},
   "outputs": [
    {
     "data": {
      "text/plain": [
       "MPAA\n",
       "G        3.426099e+07\n",
       "NC-17    3.452006e+07\n",
       "PG       3.697347e+07\n",
       "PG-13    3.510989e+07\n",
       "R        3.670206e+07\n",
       "Name: domestic_revenue, dtype: float64"
      ]
     },
     "execution_count": 34,
     "metadata": {},
     "output_type": "execute_result"
    }
   ],
   "source": [
    "'''Average Domestic Revenu by MPAA Rating'''\n",
    "data.groupby('MPAA')['domestic_revenue'].mean()"
   ]
  }
 ],
 "metadata": {
  "kernelspec": {
   "display_name": "Python 3",
   "language": "python",
   "name": "python3"
  },
  "language_info": {
   "codemirror_mode": {
    "name": "ipython",
    "version": 3
   },
   "file_extension": ".py",
   "mimetype": "text/x-python",
   "name": "python",
   "nbconvert_exporter": "python",
   "pygments_lexer": "ipython3",
   "version": "3.11.8"
  }
 },
 "nbformat": 4,
 "nbformat_minor": 2
}
